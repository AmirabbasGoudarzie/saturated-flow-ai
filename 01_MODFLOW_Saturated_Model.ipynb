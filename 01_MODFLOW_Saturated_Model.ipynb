{
 "cells": [
  {
   "cell_type": "code",
   "execution_count": 5,
   "id": "d9f8687c",
   "metadata": {},
   "outputs": [],
   "source": [
    "import flopy\n",
    "import numpy as np"
   ]
  },
  {
   "cell_type": "markdown",
   "id": "4fd9234e",
   "metadata": {},
   "source": [
    "Model Settings"
   ]
  },
  {
   "cell_type": "code",
   "execution_count": 10,
   "id": "aa9625cd",
   "metadata": {},
   "outputs": [
    {
     "name": "stdout",
     "output_type": "stream",
     "text": [
      "FloPy is using the following executable to run the model: ..\\MODFLOW\\MF2005.1_12\\bin\\mf2005.exe\n",
      "\n",
      "                                  MODFLOW-2005     \n",
      "    U.S. GEOLOGICAL SURVEY MODULAR FINITE-DIFFERENCE GROUND-WATER FLOW MODEL\n",
      "                             Version 1.12.00 2/3/2017                        \n",
      "\n",
      " Using NAME file: saturated_model.nam \n",
      " Run start date and time (yyyy/mm/dd hh:mm:ss): 2025/08/05 22:08:25\n",
      "\n",
      " Solving:  Stress period:     1    Time step:     1    Ground-Water Flow Eqn.\n",
      " Run end date and time (yyyy/mm/dd hh:mm:ss): 2025/08/05 22:08:25\n",
      " Elapsed run time:  0.076 Seconds\n",
      "\n",
      "  Normal termination of simulation\n"
     ]
    }
   ],
   "source": [
    "model_name = \"saturated_model\"\n",
    "model = flopy.modflow.Modflow(modelname=model_name, exe_name=r\"C:\\MODFLOW\\MF2005.1_12\\bin\\mf2005.exe\")\n",
    "\n",
    "nrow, ncol = 20, 20\n",
    "delr = delc = 100 # Grid spacing\n",
    "top = 10\n",
    "botm = 0\n",
    "\n",
    "# DIS Package (grid)\n",
    "dis = flopy.modflow.ModflowDis(model, nlay=1, nrow=nrow, ncol=ncol,\n",
    "                               delr=delr, delc=delc, top=top, botm=botm)\n",
    "\n",
    "# IBOUND and starting head\n",
    "ibound = np.ones((1, nrow, ncol), dtype=int)\n",
    "ibound[:, :, 0] = -1  # fixed head left\n",
    "ibound[:, :, -1] = -1  # fixed head right\n",
    "\n",
    "strt = 10.0  # starting head everywhere\n",
    "bas = flopy.modflow.ModflowBas(model, ibound=ibound, strt=strt)\n",
    "\n",
    "# Hydraulic conductivity (uniform)\n",
    "lpf = flopy.modflow.ModflowLpf(model, hk=10.0)\n",
    "\n",
    "# Recharge package\n",
    "rch = flopy.modflow.ModflowRch(model, rech=0.001)\n",
    "\n",
    "# Solver & Output\n",
    "pcg = flopy.modflow.ModflowPcg(model)\n",
    "oc = flopy.modflow.ModflowOc(model)\n",
    "\n",
    "# Write input and run\n",
    "model.write_input()\n",
    "success, buff = model.run_model()"
   ]
  }
 ],
 "metadata": {
  "kernelspec": {
   "display_name": "Python 3",
   "language": "python",
   "name": "python3"
  },
  "language_info": {
   "codemirror_mode": {
    "name": "ipython",
    "version": 3
   },
   "file_extension": ".py",
   "mimetype": "text/x-python",
   "name": "python",
   "nbconvert_exporter": "python",
   "pygments_lexer": "ipython3",
   "version": "3.9.13"
  }
 },
 "nbformat": 4,
 "nbformat_minor": 5
}
